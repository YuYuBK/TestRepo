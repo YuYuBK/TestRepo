{
 "cells": [
  {
   "cell_type": "markdown",
   "id": "d8c72823-4430-4b61-97df-1a011d5bf483",
   "metadata": {},
   "source": [
    "# Data Science Tools and Ecosystem"
   ]
  },
  {
   "cell_type": "markdown",
   "id": "bc1a36fb-12a5-4dcf-b611-649bf28c523e",
   "metadata": {},
   "source": [
    "# In this notebook, Data Science Tools and Ecosystem are summarized."
   ]
  },
  {
   "cell_type": "markdown",
   "id": "e5644919-b381-4c8b-a293-73194bb505b6",
   "metadata": {},
   "source": [
    "# Objectives:\n",
    "# List popular languages for Data Science\n",
    "# * Python\n",
    "# * R\n",
    "# * SQL\n",
    "# * Julia\n",
    "## Author HOANG MY DUNG"
   ]
  },
  {
   "cell_type": "markdown",
   "id": "b3257343-11cf-4462-994f-90e494fbb796",
   "metadata": {},
   "source": [
    "# Some of the popular languages that Data Scientists use are:\n",
    "## 1. Python\n",
    "## 2. R\n",
    "## 3. SQL"
   ]
  },
  {
   "cell_type": "markdown",
   "id": "9f9037a3-0e4e-4cca-a895-2ce45b52813d",
   "metadata": {},
   "source": [
    "# Some of the commonly used libraries used by Data Scientists include:\n",
    "## 1. Pandas\n",
    "## 2. ggplot2\n",
    "## 3. Jupyter Notebooks"
   ]
  },
  {
   "cell_type": "markdown",
   "id": "89312b9b-f3fb-497b-ac12-c76de6bce967",
   "metadata": {},
   "source": [
    "| Data Science Tools |\n",
    "| ------------------ |\n",
    "| Jupyter Notebook   |\n",
    "| RStudio            |\n",
    "| Apache Spark       |"
   ]
  },
  {
   "cell_type": "markdown",
   "id": "30802618-1e1e-4bce-8a95-966e47cee6c8",
   "metadata": {},
   "source": [
    "### Below are a few examples of evaluating arithmetic expressions in Python"
   ]
  },
  {
   "cell_type": "code",
   "execution_count": 1,
   "id": "e3039858-7dc4-4ee6-8bfb-330e429ace21",
   "metadata": {},
   "outputs": [
    {
     "data": {
      "text/plain": [
       "17"
      ]
     },
     "execution_count": 1,
     "metadata": {},
     "output_type": "execute_result"
    }
   ],
   "source": [
    "# This a simple arithmetic expression to mutiply then add integers\n",
    "(3*4)+5"
   ]
  },
  {
   "cell_type": "code",
   "execution_count": 2,
   "id": "3063a4fb-5e0b-4b99-a7d8-ffccbdab4473",
   "metadata": {},
   "outputs": [
    {
     "data": {
      "text/plain": [
       "3.3333333333333335"
      ]
     },
     "execution_count": 2,
     "metadata": {},
     "output_type": "execute_result"
    }
   ],
   "source": [
    "# This will convert 200 minutes to hours by diving by 60\n",
    "200/60"
   ]
  },
  {
   "cell_type": "code",
   "execution_count": null,
   "id": "ab398a1b-97bc-4a5f-8536-451386c1c53f",
   "metadata": {},
   "outputs": [],
   "source": []
  }
 ],
 "metadata": {
  "kernelspec": {
   "display_name": "Python 3 (ipykernel)",
   "language": "python",
   "name": "python3"
  },
  "language_info": {
   "codemirror_mode": {
    "name": "ipython",
    "version": 3
   },
   "file_extension": ".py",
   "mimetype": "text/x-python",
   "name": "python",
   "nbconvert_exporter": "python",
   "pygments_lexer": "ipython3",
   "version": "3.12.8"
  }
 },
 "nbformat": 4,
 "nbformat_minor": 5
}
